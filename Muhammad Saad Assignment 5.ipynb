{
 "cells": [
  {
   "cell_type": "markdown",
   "metadata": {},
   "source": [
    "# MUHAMMAD SAAD ASSIGNMENT 5"
   ]
  },
  {
   "cell_type": "code",
   "execution_count": 222,
   "metadata": {},
   "outputs": [
    {
     "name": "stdout",
     "output_type": "stream",
     "text": [
      "{'current_date': '2021-07-11', 'Data': {'person_1': {'name': 'Mr. Abdul Rafay', 'age': 22, 'Interests': ['football', 'cricket'], 'amount_deposited': 50000, 'year': '1999'}, 'person_2': {'name': 'Mrs. Nancy James', 'age': 23, 'Interests': ['baseball', 'cricket'], 'amount_deposited': 51000, 'year': '1998'}}}\n"
     ]
    }
   ],
   "source": [
    "from functools import reduce\n",
    "import datetime\n",
    "import json\n",
    "import csv \n",
    "import xlsxwriter\n",
    "\n",
    "my_dict = {\n",
    "    \n",
    "'person_1':{ 'name' : 'Abdul Rafay', 'age':22, 'Interests':['football','cricket'], 'amount_deposited':[24000,26000] },\n",
    "'person_2':{ 'name' : 'Nancy James', 'age':23, 'Interests':['baseball','cricket'], 'amount_deposited':[24000,27000] },\n",
    "'person_3':{ 'name' : 'Selena Gomez', 'age':26, 'Interests':['baseball','table tennis'],'amount_deposited':[24000,28000] }\n",
    "    \n",
    "}\n",
    "\n",
    "def func_filter(a):\n",
    "    \n",
    "    result= list(filter(lambda x: x if (str(x).lower().startswith('s')) or \n",
    "                 (str(x).lower().startswith('m')) or (str(x).lower().startswith('k')) else None, \n",
    "                  [a[key][\"name\"] for key in a.keys()]))\n",
    "    temp=[]\n",
    "    for key in a.keys():\n",
    "        for i in range(0,len(result)):\n",
    "            if a[key]['name']==str(result[i]):\n",
    "                temp.append(key) \n",
    "        \n",
    "    for i in range(0,len(temp)):\n",
    "                   del a[temp[i]]\n",
    "    \n",
    "    return a\n",
    "\n",
    "func_filter(my_dict) \n",
    "\n",
    "\n",
    "def func_map(a):\n",
    "    alp = [chr(i) for i in range(97,104)]\n",
    "    alp = tuple(alp)\n",
    "\n",
    "    result = list(map(lambda x : \"Mr. \"+x if str(x).lower().startswith(alp) else \"Mrs. \"+x, [a[key][\"name\"] for key in a.keys()]))\n",
    "    i=0\n",
    "    for key in a.keys():\n",
    "        a[key]['name'] = str(result[i])\n",
    "        i=i+1\n",
    "   \n",
    "    return a\n",
    "\n",
    "func_map(my_dict)\n",
    "\n",
    "def func_age(a):\n",
    "    \n",
    "    result=list(map(lambda x:(datetime.date.today().year - x), [a[key][\"age\"] for key in a.keys()] ))\n",
    "    \n",
    "    i=0\n",
    "    for key in a.keys():\n",
    "        a[key]['year'] = str(result[i])\n",
    "        i=i+1\n",
    "   \n",
    "    return a\n",
    "\n",
    "func_age(my_dict)\n",
    "\n",
    "\n",
    "def func_sum(a):\n",
    "    \n",
    "    for key in a.keys():\n",
    "        a[key]['amount_deposited']= a[key]['amount_deposited'][0]+a[key]['amount_deposited'][1]\n",
    "        \n",
    "    return a\n",
    "\n",
    "func_sum(my_dict)\n",
    "\n",
    "\n",
    "output={'current_date':str(datetime.date.today()), \"Data\":my_dict}\n",
    "\n",
    "\n",
    "with open('names.json','w') as file:\n",
    "    json.dump(output,file,indent=1)\n",
    "\n",
    "\n",
    "#writing data in csv file \n",
    "column=list(my_dict[\"person_1\"].keys()) \n",
    "column.insert(0,\" \")\n",
    "\n",
    "data=[]\n",
    "i=0\n",
    "for key in my_dict.keys():\n",
    "     temp=list(my_dict[key].values())\n",
    "     temp.insert(0,str(i))\n",
    "     data.append(temp)\n",
    "     i=i+1\n",
    "   \n",
    "with open('names.csv', 'w') as f:\n",
    "    write=csv.writer(f)\n",
    "    write.writerow(column)\n",
    "    write.writerows(data)\n",
    "\n",
    "print(output)"
   ]
  },
  {
   "cell_type": "code",
   "execution_count": 219,
   "metadata": {},
   "outputs": [],
   "source": []
  },
  {
   "cell_type": "code",
   "execution_count": 204,
   "metadata": {},
   "outputs": [],
   "source": []
  },
  {
   "cell_type": "code",
   "execution_count": null,
   "metadata": {},
   "outputs": [],
   "source": []
  }
 ],
 "metadata": {
  "kernelspec": {
   "display_name": "Python 3",
   "language": "python",
   "name": "python3"
  },
  "language_info": {
   "codemirror_mode": {
    "name": "ipython",
    "version": 3
   },
   "file_extension": ".py",
   "mimetype": "text/x-python",
   "name": "python",
   "nbconvert_exporter": "python",
   "pygments_lexer": "ipython3",
   "version": "3.8.5"
  }
 },
 "nbformat": 4,
 "nbformat_minor": 4
}
